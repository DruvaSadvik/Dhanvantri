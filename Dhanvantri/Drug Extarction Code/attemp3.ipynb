{
 "cells": [
  {
   "cell_type": "code",
   "execution_count": 1,
   "metadata": {},
   "outputs": [],
   "source": [
    "import requests\n",
    "from bs4 import BeautifulSoup\n",
    "import pandas as pd\n",
    "\n",
    "drug_names_list = []\n",
    "usages_list = []\n",
    "dosages_list = []\n",
    "warning_list = []"
   ]
  },
  {
   "cell_type": "code",
   "execution_count": 2,
   "metadata": {},
   "outputs": [],
   "source": [
    "url = 'https://www.drugs.com/drug_information.html'\n",
    "page = requests.get(url)\n",
    "soup = BeautifulSoup(page.text, 'html.parser')"
   ]
  },
  {
   "cell_type": "code",
   "execution_count": 8,
   "metadata": {},
   "outputs": [
    {
     "name": "stdout",
     "output_type": "stream",
     "text": [
      "<li><a aria-label=\"Browse drugs and medications by letter: A\" href=\"/alpha/a.html\">A</a></li>\n",
      "<li><a aria-label=\"Browse drugs and medications by letter: B\" href=\"/alpha/b.html\">B</a></li>\n",
      "<li><a aria-label=\"Browse drugs and medications by letter: C\" href=\"/alpha/c.html\">C</a></li>\n",
      "<li><a aria-label=\"Browse drugs and medications by letter: D\" href=\"/alpha/d.html\">D</a></li>\n",
      "<li><a aria-label=\"Browse drugs and medications by letter: E\" href=\"/alpha/e.html\">E</a></li>\n",
      "<li><a aria-label=\"Browse drugs and medications by letter: F\" href=\"/alpha/f.html\">F</a></li>\n",
      "<li><a aria-label=\"Browse drugs and medications by letter: G\" href=\"/alpha/g.html\">G</a></li>\n",
      "<li><a aria-label=\"Browse drugs and medications by letter: H\" href=\"/alpha/h.html\">H</a></li>\n",
      "<li><a aria-label=\"Browse drugs and medications by letter: I\" href=\"/alpha/i.html\">I</a></li>\n",
      "<li><a aria-label=\"Browse drugs and medications by letter: J\" href=\"/alpha/j.html\">J</a></li>\n",
      "<li><a aria-label=\"Browse drugs and medications by letter: K\" href=\"/alpha/k.html\">K</a></li>\n",
      "<li><a aria-label=\"Browse drugs and medications by letter: L\" href=\"/alpha/l.html\">L</a></li>\n",
      "<li><a aria-label=\"Browse drugs and medications by letter: M\" href=\"/alpha/m.html\">M</a></li>\n",
      "<li><a aria-label=\"Browse drugs and medications by letter: N\" href=\"/alpha/n.html\">N</a></li>\n",
      "<li><a aria-label=\"Browse drugs and medications by letter: O\" href=\"/alpha/o.html\">O</a></li>\n",
      "<li><a aria-label=\"Browse drugs and medications by letter: P\" href=\"/alpha/p.html\">P</a></li>\n",
      "<li><a aria-label=\"Browse drugs and medications by letter: Q\" href=\"/alpha/q.html\">Q</a></li>\n",
      "<li><a aria-label=\"Browse drugs and medications by letter: R\" href=\"/alpha/r.html\">R</a></li>\n",
      "<li><a aria-label=\"Browse drugs and medications by letter: S\" href=\"/alpha/s.html\">S</a></li>\n",
      "<li><a aria-label=\"Browse drugs and medications by letter: T\" href=\"/alpha/t.html\">T</a></li>\n",
      "<li><a aria-label=\"Browse drugs and medications by letter: U\" href=\"/alpha/u.html\">U</a></li>\n",
      "<li><a aria-label=\"Browse drugs and medications by letter: V\" href=\"/alpha/v.html\">V</a></li>\n",
      "<li><a aria-label=\"Browse drugs and medications by letter: W\" href=\"/alpha/w.html\">W</a></li>\n",
      "<li><a aria-label=\"Browse drugs and medications by letter: X\" href=\"/alpha/x.html\">X</a></li>\n",
      "<li><a aria-label=\"Browse drugs and medications by letter: Y\" href=\"/alpha/y.html\">Y</a></li>\n",
      "<li><a aria-label=\"Browse drugs and medications by letter: Z\" href=\"/alpha/z.html\">Z</a></li>\n",
      "<li><a aria-label=\"Browse drugs and medications by numbers: 0-9\" href=\"/alpha/0-9.html\">0-9</a></li>\n",
      " \n"
     ]
    }
   ],
   "source": [
    "alphabets = soup.find('nav',class_='ddc-paging')\n",
    "alphabets_links = alphabets.find_next('ul')\n",
    "for links in alphabets_links:\n",
    "    print(links.get('href'))"
   ]
  },
  {
   "cell_type": "code",
   "execution_count": 6,
   "metadata": {},
   "outputs": [],
   "source": [
    "import pandas as pd"
   ]
  },
  {
   "cell_type": "code",
   "execution_count": 9,
   "metadata": {},
   "outputs": [],
   "source": [
    "excel_0 = pd.read_excel('attempt3_0_drug_master_data.xlsx')\n",
    "excel_1 = pd.read_excel('attempt3_1_drug_master_data.xlsx')\n",
    "excel_2 = pd.read_excel('attempt3_2_drug_master_data.xlsx')\n",
    "excel_3 = pd.read_excel('attempt3_3_drug_master_data.xlsx')\n",
    "excel_4 = pd.read_excel('attempt3_4_drug_master_data.xlsx')\n",
    "excel_5 = pd.read_excel('attempt3_5_drug_master_data.xlsx')\n",
    "excel_6 = pd.read_excel('attempt3_6_drug_master_data.xlsx')\n",
    "excel_7 = pd.read_excel('attempt3_7_drug_master_data.xlsx')"
   ]
  },
  {
   "cell_type": "code",
   "execution_count": 12,
   "metadata": {},
   "outputs": [],
   "source": [
    "master_drug_data = pd.concat([excel_0,excel_1,excel_2,excel_3,excel_4,excel_5,excel_6,excel_7])\n",
    "master_drug_data.to_excel('master_drug_data.xlsx',index =False)"
   ]
  }
 ],
 "metadata": {
  "kernelspec": {
   "display_name": "Python 3",
   "language": "python",
   "name": "python3"
  },
  "language_info": {
   "codemirror_mode": {
    "name": "ipython",
    "version": 3
   },
   "file_extension": ".py",
   "mimetype": "text/x-python",
   "name": "python",
   "nbconvert_exporter": "python",
   "pygments_lexer": "ipython3",
   "version": "3.9.10"
  },
  "orig_nbformat": 4
 },
 "nbformat": 4,
 "nbformat_minor": 2
}
