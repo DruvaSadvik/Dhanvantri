{
 "cells": [
  {
   "attachments": {},
   "cell_type": "markdown",
   "metadata": {},
   "source": [
    "# Change Language And Remainder Added\n"
   ]
  },
  {
   "attachments": {},
   "cell_type": "markdown",
   "metadata": {},
   "source": [
    "# Importing Necessary Modules\n",
    " "
   ]
  },
  {
   "cell_type": "code",
   "execution_count": 1,
   "metadata": {},
   "outputs": [
    {
     "name": "stderr",
     "output_type": "stream",
     "text": [
      "c:\\Users\\DRUVA\\AppData\\Local\\Programs\\Python\\Python39\\lib\\site-packages\\requests\\__init__.py:43: DeprecationWarning: 'urllib3[secure]' extra is deprecated and will be removed in a future release of urllib3 2.x. Read more in this issue: https://github.com/urllib3/urllib3/issues/2680\n",
      "  import urllib3\n"
     ]
    }
   ],
   "source": [
    "from paddleocr import PaddleOCR, draw_ocr \n",
    "from matplotlib import pyplot as plt \n",
    "from bs4 import BeautifulSoup\n",
    "from selenium import webdriver\n",
    "import pandas as pd\n",
    "from webdriver_manager.chrome import ChromeDriverManager\n",
    "import logging\n",
    "from selenium.webdriver.common.keys import Keys\n",
    "from selenium.webdriver.common.by import By\n",
    "from selenium.webdriver.support.ui import WebDriverWait\n",
    "from selenium.webdriver.support import expected_conditions as EC\n",
    "logging.getLogger(\"ppocr\").setLevel(logging.WARNING)\n",
    "logging.getLogger(\"ppocr\").setLevel(logging.CRITICAL)\n",
    "from telegram.ext import *\n",
    "from selenium.common.exceptions import *\n",
    "from datetime import *\n",
    "import re\n",
    "from translate import Translator\n",
    "\n",
    "drug_file = \"D:\\Projctzz\\Dhanvantri\\drugs.csv\"                 # give path of the drug file \n",
    "Token = '6192929005:AAGHaS6NUx2XEpppi1_zksxCgYIzfKR2ZHY'         # update Token id with yours\n",
    "updater = Updater(token=Token, use_context=True)\n",
    "dispatcher = updater.dispatcher\n"
   ]
  },
  {
   "attachments": {},
   "cell_type": "markdown",
   "metadata": {},
   "source": [
    "# OCR Operation\n"
   ]
  },
  {
   "cell_type": "code",
   "execution_count": null,
   "metadata": {},
   "outputs": [],
   "source": [
    "def drug_name(img,drug_file):\n",
    "    df = pd.read_csv(drug_file,encoding='iso-8859-1')   \n",
    "    ocr_model = PaddleOCR(lang='en')   \n",
    "    result = ocr_model.ocr(img)\n",
    "    element = 1\n",
    "    drug = ''\n",
    "    for item in result:\n",
    "        while True:\n",
    "            try:\n",
    "                text_elements = item[element][1][0].replace(',',' ').split()\n",
    "                for word in text_elements:\n",
    "                    word = word.upper()\n",
    "                    if word in df['Drug_Name'].values and word not in drug:\n",
    "                        drug = drug+' '+word\n",
    "            except IndexError:\n",
    "                break\n",
    "            element+=1\n",
    "    \n",
    "    return drug"
   ]
  },
  {
   "attachments": {},
   "cell_type": "markdown",
   "metadata": {},
   "source": [
    "# Scrapping Work"
   ]
  },
  {
   "cell_type": "code",
   "execution_count": null,
   "metadata": {},
   "outputs": [],
   "source": [
    "def drug_det_scrape(drug):\n",
    "    \n",
    "    url = 'https://www.apollopharmacy.in/'\n",
    "    chrome_options = webdriver.ChromeOptions()\n",
    "    # chrome_options.add_argument('--headless')\n",
    "    driver = webdriver.Firefox(executable_path=\"D:\\Softwares\\geckodriver.exe\")\n",
    "\n",
    "    driver.get(url)\n",
    "    \n",
    "    # def extract():\n",
    "    try:\n",
    "        element = WebDriverWait(driver,10).until(EC.presence_of_element_located((By.XPATH,'//*[@id=\"wzrk-cancel\"]')))\n",
    "        no_thanks = driver.find_element('xpath','//*[@id=\"searchProduct\"]').click()\n",
    "\n",
    "        Search_box = driver.find_element('xpath','//*[@id=\"searchProduct\"]').send_keys(drug)\n",
    "        \n",
    "\n",
    "        element1 = WebDriverWait(driver,10).until(EC.presence_of_element_located((By.XPATH,'//*[@id=\"mainContainerCT\"]/div[1]/div[3]/div[1]/div[1]/div[1]/button')))\n",
    "        Search_button = driver.find_element('xpath','//*[@id=\"mainContainerCT\"]/div[1]/div[3]/div[1]/div[1]/div[1]/button').click()\n",
    "        \n",
    "        element2 = WebDriverWait(driver,10).until(EC.presence_of_element_located((By.XPATH,'//*[@id=\"__next\"]/div/div/div[2]/div[2]/div[2]/div[3]/div/div/div/div/div[1]/div[1]/div/div/div[1]/a/p')))\n",
    "        product_botton = driver.find_element('xpath','//*[@id=\"__next\"]/div/div/div[2]/div[2]/div[2]/div[3]/div/div/div/div/div[1]/div[1]/div/div/div[1]/a/p').click()\n",
    "\n",
    "        element3 = WebDriverWait(driver,10).until(EC.presence_of_element_located((By.XPATH,'//*[@id=\"__next\"]/div/div/div[2]/div/div[3]/div/div[1]/div[3]/div[1]/div[2]/div[2]/div/p')))\n",
    "        usage = driver.find_element('xpath','//*[@id=\"__next\"]/div/div/div[2]/div/div[3]/div/div[1]/div[3]/div[1]/div[2]/div[2]/div/p').text\n",
    "        \n",
    "\n",
    "        element4 = WebDriverWait(driver,10).until(EC.presence_of_element_located((By.XPATH,'//*[@id=\"__next\"]/div/div/div[2]/div/div[3]/div/div[1]/div[3]/div[1]/div[2]/div[4]/div')))\n",
    "        directions = driver.find_element('xpath','//*[@id=\"__next\"]/div/div/div[2]/div/div[3]/div/div[1]/div[3]/div[1]/div[2]/div[4]/div').text\n",
    "        \n",
    "\n",
    "        element5 = WebDriverWait(driver,10).until(EC.presence_of_element_located((By.XPATH,'//*[@id=\"__next\"]/div/div/div[2]/div/div[3]/div/div[1]/div[3]/div[1]/div[2]/div[5]/div')))\n",
    "        storage = driver.find_element('xpath','//*[@id=\"__next\"]/div/div/div[2]/div/div[3]/div/div[1]/div[3]/div[1]/div[2]/div[5]/div').text\n",
    "\n",
    "        return usage,directions,storage\n",
    "    \n",
    "    except TimeoutException:\n",
    "        try:\n",
    "            element3 = WebDriverWait(driver,10).until(EC.presence_of_element_located((By.XPATH,'//*[@id=\"__next\"]/div/div/div[2]/div/div[3]/div/div[1]/div[3]/div[2]/div[2]/div[2]/div/p')))\n",
    "            usage = driver.find_element('xpath','//*[@id=\"__next\"]/div/div/div[2]/div/div[3]/div/div[1]/div[3]/div[2]/div[2]/div[2]/div/p').text\n",
    "            \n",
    "            element4 = WebDriverWait(driver,10).until(EC.presence_of_element_located((By.XPATH,'//*[@id=\"__next\"]/div/div/div[2]/div/div[3]/div/div[1]/div[3]/div[2]/div[2]/div[4]/div')))\n",
    "            directions = driver.find_element('xpath','//*[@id=\"__next\"]/div/div/div[2]/div/div[3]/div/div[1]/div[3]/div[2]/div[2]/div[4]/div').text\n",
    "            \n",
    "            element5 = WebDriverWait(driver,10).until(EC.presence_of_element_located((By.XPATH,'//*[@id=\"__next\"]/div/div/div[2]/div/div[3]/div/div[1]/div[3]/div[2]/div[2]/div[5]/div')))\n",
    "            storage = driver.find_element('xpath','//*[@id=\"__next\"]/div/div/div[2]/div/div[3]/div/div[1]/div[3]/div[2]/div[2]/div[5]/div').text\n",
    "            return usage,directions,storage\n",
    "        except:\n",
    "            usage = 'No Results Found'\n",
    "            directions = 'No Results Found'\n",
    "            storage = 'No Results Found'\n",
    "            return usage,directions,storage\n",
    "    "
   ]
  },
  {
   "attachments": {},
   "cell_type": "markdown",
   "metadata": {},
   "source": [
    "# Telegram Bot "
   ]
  },
  {
   "attachments": {},
   "cell_type": "markdown",
   "metadata": {},
   "source": [
    "#### Getting Image form Telegram"
   ]
  },
  {
   "cell_type": "code",
   "execution_count": null,
   "metadata": {},
   "outputs": [],
   "source": [
    "lang = None\n",
    "def handle_image(update, context):\n",
    "    global lang\n",
    "    if lang == None:\n",
    "        lang = 'en'\n",
    "    translator = Translator(to_lang=lang)\n",
    "    message = update.message\n",
    "    # global photo_path\n",
    "    if message.photo:\n",
    "\n",
    "        # Get the file ID of the largest photo\n",
    "        file_id = message.photo[-1].file_id\n",
    "\n",
    "        # Get the file object\n",
    "        file_obj = context.bot.get_file(file_id)\n",
    "\n",
    "        # Download the photo\n",
    "        photo_path = 'received_photo.jpg'\n",
    "        file_obj.download(photo_path)\n",
    "\n",
    "        # Respond with a message\n",
    "        message.reply_text(translator.translate('Photo received!'))\n",
    "\n",
    "        drug = drug_name(str(photo_path),drug_file)\n",
    "\n",
    "        if drug == '':\n",
    "            update.message.reply_text(translator.translate(\"Name not Detected!\\nMake sure that Drug name visible\\n \"))\n",
    "            update.message.reply_text(\"No Worries! Go with /manual_entry or /Features of Dhanvantri\")\n",
    "            return\n",
    "        update.message.reply_text(translator.translate(\"Ur results getting Ready Please Wait....\"))\n",
    "        usage,directions,storage = drug_det_scrape(drug)\n",
    "        update.message.reply_text(translator.translate(\"Almost There ...\"))\n",
    "        update.message.reply_text(\n",
    "        f'''{translator.translate('USAGE')}: \\n\\n {translator.translate(usage)} \\n\\n {translator.translate('DIRECTIONS')} :\\n\\n {translator.translate(directions)} \\n\\n {translator.translate('STORAGE')}:\\n\\n {translator.translate(storage)}\n",
    "        '''\n",
    "        )\n",
    "        # cannot able to return photo_path\n",
    "        # if we pass photo directly that will be great\n",
    "\n",
    "    else:\n",
    "        # If the message does not contain a photo\n",
    "        message.reply_text(translator.translate('Please send an image.'))"
   ]
  },
  {
   "attachments": {},
   "cell_type": "markdown",
   "metadata": {},
   "source": [
    "#### Start"
   ]
  },
  {
   "cell_type": "code",
   "execution_count": null,
   "metadata": {},
   "outputs": [],
   "source": [
    "def start(update, context):\n",
    "    update.message.reply_text(\"Hi! I'm Dhanvantri The Drug Detector Bot.\\nI'm a bot that lets you find drugs in images.\\n\\nTo /Features, click the Features button to start.\") "
   ]
  },
  {
   "attachments": {},
   "cell_type": "markdown",
   "metadata": {},
   "source": [
    "#### Help"
   ]
  },
  {
   "cell_type": "code",
   "execution_count": null,
   "metadata": {},
   "outputs": [],
   "source": [
    "def help(update,context):\n",
    "    update.message.reply_text(\n",
    "        '''\n",
    "        /start -> Greating From Dhanvanthri\\n/help  -> Need any Help\\n/Features -> Know What Dhanvanthri can do\\n/Change_Language -> Change the language of the Bot\\n/identify_drug -> medicine identification\\n/remainder -> medicine intake remainder\\n/manual_entry -> Manual entry of Drug Name\n",
    "        '''\n",
    "    ) "
   ]
  },
  {
   "attachments": {},
   "cell_type": "markdown",
   "metadata": {},
   "source": [
    "#### Features"
   ]
  },
  {
   "cell_type": "code",
   "execution_count": null,
   "metadata": {},
   "outputs": [],
   "source": [
    "def Features(update,context):\n",
    "    update.message.reply_text(\n",
    "        '''\n",
    "        /Change_Language(default:English)\\n/identify_drug\\n/remainder\\n/manual_entry\n",
    "        '''\n",
    "        )"
   ]
  },
  {
   "attachments": {},
   "cell_type": "markdown",
   "metadata": {},
   "source": [
    "#### Transalate"
   ]
  },
  {
   "cell_type": "code",
   "execution_count": null,
   "metadata": {},
   "outputs": [],
   "source": [
    "def transalate(update,context):\n",
    "    global lang\n",
    "    lang = update.message.text\n",
    "    translator = Translator(to_lang=lang)\n",
    "    update.message.reply_text(translator.translate('Please Upload medicine strip (Backside where Drug name present)'))\n",
    "    dispatcher.add_handler(MessageHandler(Filters.photo, handle_image))"
   ]
  },
  {
   "cell_type": "code",
   "execution_count": null,
   "metadata": {},
   "outputs": [],
   "source": [
    "def select_lang(update,context):\n",
    "    update.message.reply_text('''\n",
    "as: Assamese\n",
    "bn: Bengali\n",
    "gu: Gujarati\n",
    "hi: Hindi\n",
    "kn: Kannada\n",
    "ml: Malayalam\n",
    "mr: Marathi\n",
    "ne: Nepali\n",
    "or: Oriya\n",
    "pa: Punjabi\n",
    "ta: Tamil\n",
    "te: Telugu\n",
    "ur: Urdu\n",
    "en: English\n",
    "------------------\n",
    "ar: Arabic\n",
    "de: German\n",
    "es: Spanish\n",
    "fr: French\n",
    "it: Italian\n",
    "ja: Japanese\n",
    "ko: Korean\n",
    "pt: Portuguese\n",
    "ru: Russian\n",
    "zh-CN: Chinese (Simplified)  ''')\n",
    "    update.message.reply_text(\"Enter Requried Language Code 🫡\")\n",
    "dispatcher.add_handler(MessageHandler(Filters.text & ~Filters.command, transalate))"
   ]
  },
  {
   "attachments": {},
   "cell_type": "markdown",
   "metadata": {},
   "source": [
    "#### Identify Drug"
   ]
  },
  {
   "cell_type": "code",
   "execution_count": null,
   "metadata": {},
   "outputs": [],
   "source": [
    "def identify_drug(update,context):\n",
    "    update.message.reply_text('Please Upload medicine strip (Backside where Drug name present)')\n",
    "    dispatcher.add_handler(MessageHandler(Filters.photo, handle_image))"
   ]
  },
  {
   "attachments": {},
   "cell_type": "markdown",
   "metadata": {},
   "source": [
    "#### Manual Entry"
   ]
  },
  {
   "cell_type": "code",
   "execution_count": null,
   "metadata": {},
   "outputs": [],
   "source": [
    "def manual_search(update,context):\n",
    "    message = update.message\n",
    "    if message.text:\n",
    "        drug = message.text\n",
    "        update.message.reply_text(\"Ur results getting Ready Please Wait....\")\n",
    "        usage,directions,storage = drug_det_scrape(drug)\n",
    "        update.message.reply_text(\"Almost There ...\")\n",
    "        update.message.reply_text(\n",
    "        f'''usage: \\n\\n {usage} \\n\\n Directions:\\n\\n {directions} \\n\\n Storage:\\n\\n {storage}\n",
    "        '''\n",
    "        )"
   ]
  },
  {
   "cell_type": "code",
   "execution_count": null,
   "metadata": {},
   "outputs": [],
   "source": [
    "def manual_entry(update,context):\n",
    "    update.message.reply_text('Enter Drug Name')\n",
    "    dispatcher.add_handler(MessageHandler(Filters.text & (~Filters.command),manual_search))"
   ]
  },
  {
   "attachments": {},
   "cell_type": "markdown",
   "metadata": {},
   "source": [
    "#### Remainder"
   ]
  },
  {
   "cell_type": "code",
   "execution_count": null,
   "metadata": {},
   "outputs": [],
   "source": [
    "def alarm(update,context):\n",
    "    update.message.reply_text(\"Your Remainder Set ✌️\")\n",
    "    message = update.message\n",
    "    # Access the text of the last message\n",
    "    last_message = message.text\n",
    "    time_pattern = r\"^(0[1-9]|1[0-2]):[0-5][0-9] (AM|PM)$\"\n",
    "    if re.match(time_pattern,last_message):\n",
    "        while True:\n",
    "            current_time = datetime.now().time().strftime(\"%I:%M %p\")\n",
    "            if current_time == last_message: \n",
    "                update.message.reply_text(\"Time to take medicine 💊 \")\n",
    "                return\n",
    "    else:\n",
    "        update.message.reply_text(\"Enter Time in Correct order 👀\") \n",
    "        update.message.reply_text('No Worries 😎 \\n Try again -> /remainder')        "
   ]
  },
  {
   "cell_type": "code",
   "execution_count": null,
   "metadata": {},
   "outputs": [],
   "source": [
    "def remainder(update,context):\n",
    "        update.message.reply_text(\"Enter Alerm Time (HH:MM AM)\")\n",
    "        dispatcher.add_handler(MessageHandler(Filters.text & ~Filters.command, alarm))"
   ]
  },
  {
   "attachments": {},
   "cell_type": "markdown",
   "metadata": {},
   "source": [
    "#### Error Handler"
   ]
  },
  {
   "cell_type": "code",
   "execution_count": null,
   "metadata": {},
   "outputs": [],
   "source": [
    "def error_handler(update, context):\n",
    "    # Log the exception\n",
    "    context.error(f\"An error occurred: {context.error}\")"
   ]
  },
  {
   "attachments": {},
   "cell_type": "markdown",
   "metadata": {},
   "source": [
    "#### Running the Bot"
   ]
  },
  {
   "cell_type": "code",
   "execution_count": null,
   "metadata": {},
   "outputs": [],
   "source": [
    "dispatcher.add_handler(CommandHandler('Start',start))\n",
    "dispatcher.add_handler(CommandHandler('Help',help))\n",
    "dispatcher.add_handler(CommandHandler('Change_Language',select_lang))\n",
    "dispatcher.add_handler(CommandHandler('Features',Features))\n",
    "dispatcher.add_handler(CommandHandler('Identify_drug',identify_drug))\n",
    "dispatcher.add_handler(CommandHandler('Remainder',remainder))\n",
    "dispatcher.add_handler(CommandHandler('Manual_Entry',manual_entry))\n",
    "dispatcher.add_error_handler(error_handler)\n",
    "updater.start_polling()\n",
    "updater.idle()"
   ]
  }
 ],
 "metadata": {
  "kernelspec": {
   "display_name": "Python 3",
   "language": "python",
   "name": "python3"
  },
  "language_info": {
   "codemirror_mode": {
    "name": "ipython",
    "version": 3
   },
   "file_extension": ".py",
   "mimetype": "text/x-python",
   "name": "python",
   "nbconvert_exporter": "python",
   "pygments_lexer": "ipython3",
   "version": "3.9.10"
  },
  "orig_nbformat": 4
 },
 "nbformat": 4,
 "nbformat_minor": 2
}
