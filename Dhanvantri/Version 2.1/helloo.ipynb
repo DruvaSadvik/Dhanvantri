{
 "cells": [
  {
   "cell_type": "markdown",
   "metadata": {},
   "source": [
    "# Database Model\n",
    "\n",
    "\n"
   ]
  },
  {
   "cell_type": "markdown",
   "metadata": {},
   "source": [
    "# Importing Necessary Modules\n",
    " "
   ]
  },
  {
   "cell_type": "code",
   "execution_count": 19,
   "metadata": {},
   "outputs": [],
   "source": [
    "from paddleocr import PaddleOCR,draw_ocr\n",
    "from bs4 import BeautifulSoup\n",
    "import pandas as pd\n",
    "import logging\n",
    "logging.getLogger(\"ppocr\").setLevel(logging.WARNING)\n",
    "logging.getLogger(\"ppocr\").setLevel(logging.CRITICAL)\n",
    "from telegram.ext import *\n",
    "from selenium.common.exceptions import *\n",
    "from datetime import *\n",
    "import re\n",
    "from translate import Translator\n",
    "import logging\n",
    "logging.basicConfig(level=logging.WARNING)\n",
    "from PIL import Image\n",
    "\n",
    "\n",
    "master_drug_file = 'D:\\Projctzz\\Dhanvantri\\drug data\\master_drug_data_v2.1.xlsx'  # update file with ur path\n",
    "Token = '6192929005:AAGHaS6NUx2XEpppi1_zksxCgYIzfKR2ZHY'         # update Token id with yours\n",
    "updater = Updater(token=Token, use_context=True)\n",
    "dispatcher = updater.dispatcher\n"
   ]
  },
  {
   "cell_type": "markdown",
   "metadata": {},
   "source": [
    "# OCR Operation\n"
   ]
  },
  {
   "cell_type": "code",
   "execution_count": 20,
   "metadata": {},
   "outputs": [],
   "source": [
    "def drug_name(img,drug_file):\n",
    "    df = pd.read_excel(drug_file)\n",
    "    ocr_model = PaddleOCR(lang='en')\n",
    "    result = ocr_model.ocr(img)\n",
    "    drug = ''\n",
    "    for item in result:  \n",
    "        try:\n",
    "            for sub_item in item:\n",
    "                    for ss_text in sub_item[1][0].upper().split():\n",
    "                        if ss_text in df['Drug_Name'].values and ss_text not in drug:\n",
    "                            drug = drug+' '+ss_text\n",
    "                            drug.strip()\n",
    "        except IndexError:\n",
    "            break       \n",
    "    return drug"
   ]
  },
  {
   "cell_type": "markdown",
   "metadata": {},
   "source": [
    "# Getting Drug data\n"
   ]
  },
  {
   "cell_type": "code",
   "execution_count": 36,
   "metadata": {},
   "outputs": [
    {
     "name": "stdout",
     "output_type": "stream",
     "text": [
      "        Drug_Name                                              Usage  \\\n",
      "7541  PARACETAMOL  Paracetamol (Panadol, Calpol, Alvedon) is an a...   \n",
      "\n",
      "                                                 Dosage  \\\n",
      "7541  See \"How should I take paracetamol?\" above for...   \n",
      "\n",
      "                                                Warning  \n",
      "7541  Paracetamol (acetaminophen) is found in many d...  \n"
     ]
    }
   ],
   "source": [
    "def get_drug_data(drug):\n",
    "    master_drug_data = pd.read_excel(master_drug_file)\n",
    "    result_df = master_drug_data[master_drug_data['Drug_Name'] == drug]\n",
    "    if not result_df.empty:\n",
    "        usage = result_df['Usage'].iloc[0]\n",
    "        Dosage = result_df['Dosage'].iloc[0]\n",
    "        Warnings = result_df['Warning'].iloc[0]\n",
    "    else:\n",
    "        usage='N/A'\n",
    "        Dosage= 'N/A'\n",
    "        Warnings = 'N/A'\n",
    "    return usage,Dosage,Warnings\n",
    "\n",
    "drug = 'PARACETAMOL'\n",
    "result_df = get_drug_data(drug)\n",
    "print(result_df)"
   ]
  },
  {
   "cell_type": "markdown",
   "metadata": {},
   "source": [
    "# Telegram Bot "
   ]
  },
  {
   "cell_type": "markdown",
   "metadata": {},
   "source": [
    "#### Getting Image form Telegram"
   ]
  },
  {
   "cell_type": "code",
   "execution_count": 22,
   "metadata": {},
   "outputs": [],
   "source": [
    "lang = None\n",
    "def handle_image(update, context):\n",
    "    global lang\n",
    "    if lang == None:\n",
    "        lang = 'en'\n",
    "    translator = Translator(to_lang=lang)\n",
    "    message = update.message\n",
    "    # global photo_path\n",
    "    if message.photo:\n",
    "\n",
    "        # Get the file ID of the largest photo\n",
    "        file_id = message.photo[-1].file_id\n",
    "\n",
    "        # Get the file object\n",
    "        file_obj = context.bot.get_file(file_id)\n",
    "\n",
    "        # Download the photo\n",
    "        photo_path = 'received_photo.jpg'\n",
    "        file_obj.download(photo_path)\n",
    "\n",
    "        # Respond with a message\n",
    "        message.reply_text(translator.translate('Photo received!'))\n",
    "\n",
    "        drug = drug_name(str(photo_path),master_drug_file)\n",
    "\n",
    "        if drug == '':\n",
    "            update.message.reply_text(translator.translate(\"Name not Detected!\\nMake sure that Drug name visible\\n \"))\n",
    "            update.message.reply_text(\"No Worries! Go with /manual_entry or /Features of Dhanvantri\")\n",
    "            return\n",
    "        update.message.reply_text(translator.translate(\"Ur results getting Ready Please Wait....\"))\n",
    "        update.message.reply_text(drug)\n",
    "        usage,Dosage,Warnings = get_drug_data(drug)\n",
    "        update.message.reply_text(translator.translate(\"Almost There ...\"))\n",
    "        update.message.reply_text(usage)\n",
    "    else:\n",
    "        # If the message does not contain a photo\n",
    "        message.reply_text(translator.translate('Please send an image.'))"
   ]
  },
  {
   "cell_type": "markdown",
   "metadata": {},
   "source": [
    "#### Start"
   ]
  },
  {
   "cell_type": "code",
   "execution_count": 23,
   "metadata": {},
   "outputs": [],
   "source": [
    "def start(update, context):\n",
    "    update.message.reply_text(\"Hi! I'm Dhanvantri The Drug Detector Bot.\\nI'm a bot that lets you find drugs in images.\\n\\nTo /Features, click the Features button to start.\") "
   ]
  },
  {
   "cell_type": "markdown",
   "metadata": {},
   "source": [
    "#### Help\n"
   ]
  },
  {
   "cell_type": "code",
   "execution_count": 24,
   "metadata": {},
   "outputs": [],
   "source": [
    "def help(update,context):\n",
    "    update.message.reply_text(\n",
    "        '''\n",
    "        /start -> Greating From Dhanvanthri\\n/help  -> Need any Help\\n/Features -> Know What Dhanvanthri can do\\n/Change_Language -> Change the language of the Bot\\n/identify_drug -> medicine identification\\n/remainder -> medicine intake remainder\\n/manual_entry -> Manual entry of Drug Name\n",
    "        '''\n",
    "    ) "
   ]
  },
  {
   "cell_type": "markdown",
   "metadata": {},
   "source": [
    "#### Features"
   ]
  },
  {
   "cell_type": "code",
   "execution_count": 25,
   "metadata": {},
   "outputs": [],
   "source": [
    "def Features(update,context):\n",
    "    update.message.reply_text(\n",
    "        '''\n",
    "        /Change_Language(default:English)\\n/identify_drug\\n/remainder\\n/manual_entry\n",
    "        '''\n",
    "        )"
   ]
  },
  {
   "cell_type": "markdown",
   "metadata": {},
   "source": [
    "#### Transalate"
   ]
  },
  {
   "cell_type": "code",
   "execution_count": 26,
   "metadata": {},
   "outputs": [],
   "source": [
    "def transalate(update,context):\n",
    "    global lang\n",
    "    lang = update.message.text\n",
    "    translator = Translator(to_lang=lang)\n",
    "    update.message.reply_text(translator.translate('Please Upload medicine strip (Backside where Drug name present)'))\n",
    "    dispatcher.add_handler(MessageHandler(Filters.photo, handle_image))"
   ]
  },
  {
   "cell_type": "code",
   "execution_count": 27,
   "metadata": {},
   "outputs": [],
   "source": [
    "def select_lang(update,context):\n",
    "    update.message.reply_text('''\n",
    "as: Assamese\n",
    "bn: Bengali\n",
    "gu: Gujarati\n",
    "hi: Hindi\n",
    "kn: Kannada\n",
    "ml: Malayalam\n",
    "mr: Marathi\n",
    "ne: Nepali\n",
    "or: Oriya\n",
    "pa: Punjabi\n",
    "ta: Tamil\n",
    "te: Telugu\n",
    "ur: Urdu\n",
    "en: English\n",
    "------------------\n",
    "ar: Arabic\n",
    "de: German\n",
    "es: Spanish\n",
    "fr: French\n",
    "it: Italian\n",
    "ja: Japanese\n",
    "ko: Korean\n",
    "pt: Portuguese\n",
    "ru: Russian\n",
    "zh-CN: Chinese (Simplified)  ''')\n",
    "    update.message.reply_text(\"Enter Requried Language Code 🫡\")\n",
    "dispatcher.add_handler(MessageHandler(Filters.text & ~Filters.command, transalate))"
   ]
  },
  {
   "cell_type": "markdown",
   "metadata": {},
   "source": [
    "#### Identify Drug"
   ]
  },
  {
   "cell_type": "code",
   "execution_count": 28,
   "metadata": {},
   "outputs": [],
   "source": [
    "def identify_drug(update,context):\n",
    "    update.message.reply_text('Please Upload medicine strip (Backside where Drug name present)')\n",
    "    dispatcher.add_handler(MessageHandler(Filters.photo, handle_image))"
   ]
  },
  {
   "cell_type": "markdown",
   "metadata": {},
   "source": [
    "#### Manual Entry"
   ]
  },
  {
   "cell_type": "code",
   "execution_count": 29,
   "metadata": {},
   "outputs": [],
   "source": [
    "def manual_search(update,context):\n",
    "    message = update.message\n",
    "    if message.text:\n",
    "        drug = message.text\n",
    "        update.message.reply_text(\"Ur results getting Ready Please Wait....\")\n",
    "        usage,directions,storage = get_drug_data(drug)\n",
    "        update.message.reply_text(\"Almost There ...\")\n",
    "        update.message.reply_text(\n",
    "        f'''usage: \\n\\n {usage} \\n\\n Directions:\\n\\n {directions} \\n\\n Storage:\\n\\n {storage}\n",
    "        '''\n",
    "        )"
   ]
  },
  {
   "cell_type": "code",
   "execution_count": 30,
   "metadata": {},
   "outputs": [],
   "source": [
    "def manual_entry(update,context):\n",
    "    update.message.reply_text('Enter Drug Name')\n",
    "    dispatcher.add_handler(MessageHandler(Filters.text & (~Filters.command),manual_search))"
   ]
  },
  {
   "cell_type": "markdown",
   "metadata": {},
   "source": [
    "#### Remainder"
   ]
  },
  {
   "cell_type": "code",
   "execution_count": 31,
   "metadata": {},
   "outputs": [],
   "source": [
    "def alarm(update,context):\n",
    "    update.message.reply_text(\"Your Remainder Set ✌️\")\n",
    "    message = update.message\n",
    "    # Access the text of the last message\n",
    "    last_message = message.text\n",
    "    time_pattern = r\"^(0[1-9]|1[0-2]):[0-5][0-9] (AM|PM)$\"\n",
    "    if re.match(time_pattern,last_message):\n",
    "        while True:\n",
    "            current_time = datetime.now().time().strftime(\"%I:%M %p\")\n",
    "            if current_time == last_message: \n",
    "                update.message.reply_text(\"Time to take medicine 💊 \")\n",
    "                return\n",
    "    else:\n",
    "        update.message.reply_text(\"Enter Time in Correct order 👀\") \n",
    "        update.message.reply_text('No Worries 😎 \\n Try again -> /remainder')        "
   ]
  },
  {
   "cell_type": "code",
   "execution_count": 32,
   "metadata": {},
   "outputs": [],
   "source": [
    "def remainder(update,context):\n",
    "        update.message.reply_text(\"Enter Alerm Time (HH:MM AM)\")\n",
    "        dispatcher.add_handler(MessageHandler(Filters.text & ~Filters.command, alarm))"
   ]
  },
  {
   "cell_type": "markdown",
   "metadata": {},
   "source": [
    "#### Error Handler"
   ]
  },
  {
   "cell_type": "code",
   "execution_count": 33,
   "metadata": {},
   "outputs": [],
   "source": [
    "def error_handler(update, context):\n",
    "    # Log the exception\n",
    "    context.error(f\"An error occurred: {context.error}\")"
   ]
  },
  {
   "cell_type": "markdown",
   "metadata": {},
   "source": [
    "#### Running the Bot"
   ]
  },
  {
   "cell_type": "code",
   "execution_count": 34,
   "metadata": {},
   "outputs": [],
   "source": [
    "dispatcher.add_handler(CommandHandler('Start',start))\n",
    "dispatcher.add_handler(CommandHandler('Help',help))\n",
    "dispatcher.add_handler(CommandHandler('Change_Language',select_lang))\n",
    "dispatcher.add_handler(CommandHandler('Features',Features))\n",
    "dispatcher.add_handler(CommandHandler('Identify_drug',identify_drug))\n",
    "dispatcher.add_handler(CommandHandler('Remainder',remainder))\n",
    "dispatcher.add_handler(CommandHandler('Manual_Entry',manual_entry))\n",
    "dispatcher.add_error_handler(error_handler)\n",
    "updater.start_polling()\n",
    "updater.idle()"
   ]
  }
 ],
 "metadata": {
  "kernelspec": {
   "display_name": "Python 3",
   "language": "python",
   "name": "python3"
  },
  "language_info": {
   "codemirror_mode": {
    "name": "ipython",
    "version": 3
   },
   "file_extension": ".py",
   "mimetype": "text/x-python",
   "name": "python",
   "nbconvert_exporter": "python",
   "pygments_lexer": "ipython3",
   "version": "3.9.10"
  },
  "orig_nbformat": 4
 },
 "nbformat": 4,
 "nbformat_minor": 2
}
