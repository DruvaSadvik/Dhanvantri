{
 "cells": [
  {
   "attachments": {},
   "cell_type": "markdown",
   "metadata": {},
   "source": [
    "# Basic Model\n"
   ]
  },
  {
   "attachments": {},
   "cell_type": "markdown",
   "metadata": {},
   "source": [
    "# Importing Necessary Modules\n",
    " "
   ]
  },
  {
   "cell_type": "code",
   "execution_count": 1,
   "metadata": {},
   "outputs": [
    {
     "name": "stderr",
     "output_type": "stream",
     "text": [
      "c:\\Users\\DRUVA\\AppData\\Local\\Programs\\Python\\Python39\\lib\\site-packages\\requests\\__init__.py:43: DeprecationWarning: 'urllib3[secure]' extra is deprecated and will be removed in a future release of urllib3 2.x. Read more in this issue: https://github.com/urllib3/urllib3/issues/2680\n",
      "  import urllib3\n"
     ]
    }
   ],
   "source": [
    "from paddleocr import PaddleOCR, draw_ocr \n",
    "from matplotlib import pyplot as plt \n",
    "from bs4 import BeautifulSoup\n",
    "from selenium import webdriver\n",
    "import pandas as pd\n",
    "from webdriver_manager.chrome import ChromeDriverManager\n",
    "import logging\n",
    "from selenium.webdriver.common.keys import Keys\n",
    "from selenium.webdriver.common.by import By\n",
    "from selenium.webdriver.support.ui import WebDriverWait\n",
    "from selenium.webdriver.support import expected_conditions as EC\n",
    "logging.getLogger(\"ppocr\").setLevel(logging.WARNING)\n",
    "logging.getLogger(\"ppocr\").setLevel(logging.CRITICAL)\n",
    "from telegram.ext import *\n",
    "from selenium.common.exceptions import *\n",
    "from datetime import *\n",
    "import re\n",
    "from translate import Translator\n",
    "\n",
    "drug_file = 'D:/Projctzz/DHANVANTRI/drugs.csv'                  # give path of the drug file \n",
    "Token = '6192929005:AAGHaS6NUx2XEpppi1_zksxCgYIzfKR2ZHY'         # update Token id with yours\n",
    "updater = Updater(token=Token, use_context=True)\n",
    "dispatcher = updater.dispatcher\n"
   ]
  },
  {
   "attachments": {},
   "cell_type": "markdown",
   "metadata": {},
   "source": [
    "# OCR Operation\n"
   ]
  },
  {
   "cell_type": "code",
   "execution_count": 2,
   "metadata": {},
   "outputs": [],
   "source": [
    "def drug_name(img,drug_file):\n",
    "    df = pd.read_csv(drug_file,encoding='iso-8859-1')   \n",
    "    ocr_model = PaddleOCR(lang='en')   \n",
    "    result = ocr_model.ocr(img)\n",
    "    element = 1\n",
    "    drug = ''\n",
    "    for item in result:\n",
    "        while True:\n",
    "            try:\n",
    "                text_elements = item[element][1][0].replace(',',' ').split()\n",
    "                for word in text_elements:\n",
    "                    word = word.upper()\n",
    "                    if word in df['Drug_Name'].values and word not in drug:\n",
    "                        drug = drug+' '+word\n",
    "            except IndexError:\n",
    "                break\n",
    "            element+=1\n",
    "    \n",
    "    return drug"
   ]
  },
  {
   "attachments": {},
   "cell_type": "markdown",
   "metadata": {},
   "source": [
    "# Scrapping Work"
   ]
  },
  {
   "cell_type": "code",
   "execution_count": 3,
   "metadata": {},
   "outputs": [],
   "source": [
    "def drug_det_scrape(drug):\n",
    "    \n",
    "    url = 'https://pharmeasy.in'\n",
    "    chrome_options = webdriver.ChromeOptions()\n",
    "    # chrome_options.add_argument('--headless')\n",
    "    driver = webdriver.Chrome(ChromeDriverManager().install())\n",
    "    driver.get(url)\n",
    "    Search_box_click = driver.find_element('xpath','//*[@id=\"__next\"]/main/div[3]/div[1]/div/div[1]/div/div[2]/div/div[1]').click()\n",
    "    Search_box_text = driver.find_element('xpath','//*[@id=\"topBarInput\"]').send_keys(drug)\n",
    "    Search = WebDriverWait(driver,10).until(EC.presence_of_element_located((By.XPATH,'//*[@id=\"__next\"]/main/div[3]/div[1]/div/div[1]/div/div[2]/div/div[1]/div/div/div[2]/a[1]/div/div'))).click()\n",
    "    product = WebDriverWait(driver,10).until(EC.presence_of_element_located((By.XPATH,'//*[@id=\"__next\"]/main/div/div/div/div[1]/div[1]/div/div/a/div[1]'))).click()\n",
    "\n",
    "\n",
    "    best_price_element = WebDriverWait(driver,10).until(EC.presence_of_element_located((By.XPATH,'//*[@id=\"__next\"]/main/div/div[2]/div[2]/div[5]/div[2]/table/tbody/tr[1]/td[2]')))\n",
    "    best_price = driver.find_element('xpath','//*[@id=\"__next\"]/main/div/div[2]/div[2]/div[5]/div[2]/table/tbody/tr[1]/td[2]').text\n",
    "\n",
    "\n",
    "    uses_element = WebDriverWait(driver,10).until(EC.presence_of_element_located((By.XPATH,'//*[@id=\"__next\"]/main/div/div[2]/div[2]/div[5]/div[2]/table/tbody/tr[4]/td[2]')))\n",
    "    uses = driver.find_element('xpath','//*[@id=\"__next\"]/main/div/div[2]/div[2]/div[5]/div[2]/table/tbody/tr[4]/td[2]').text\n",
    "\n",
    "\n",
    "    side_effects_element = WebDriverWait(driver,10).until(EC.presence_of_element_located((By.XPATH,'//*[@id=\"__next\"]/main/div/div[2]/div[2]/div[5]/div[2]/table/tbody/tr[5]/td[2]')))\n",
    "    side_effects = driver.find_element('xpath','//*[@id=\"__next\"]/main/div/div[2]/div[2]/div[5]/div[2]/table/tbody/tr[5]/td[2]').text\n",
    "\n",
    "    return best_price,uses,side_effects"
   ]
  },
  {
   "attachments": {},
   "cell_type": "markdown",
   "metadata": {},
   "source": [
    "# Telegram Bot "
   ]
  },
  {
   "attachments": {},
   "cell_type": "markdown",
   "metadata": {},
   "source": [
    "#### Getting Image form Telegram"
   ]
  },
  {
   "cell_type": "code",
   "execution_count": 4,
   "metadata": {},
   "outputs": [],
   "source": [
    "lang = None\n",
    "def handle_image(update, context):\n",
    "    global lang\n",
    "    if lang == None:\n",
    "        lang = 'en'\n",
    "    translator = Translator(to_lang=lang)\n",
    "    message = update.message\n",
    "    # global photo_path\n",
    "    if message.photo:\n",
    "\n",
    "        # Get the file ID of the largest photo\n",
    "        file_id = message.photo[-1].file_id\n",
    "\n",
    "        # Get the file object\n",
    "        file_obj = context.bot.get_file(file_id)\n",
    "\n",
    "        # Download the photo\n",
    "        photo_path = 'received_photo.jpg'\n",
    "        file_obj.download(photo_path)\n",
    "\n",
    "        # Respond with a message\n",
    "        message.reply_text(translator.translate('Photo received!'))\n",
    "\n",
    "        drug = drug_name(str(photo_path),drug_file)\n",
    "\n",
    "        if drug == '':\n",
    "            update.message.reply_text(translator.translate(\"Name not Detected!\\nMake sure that Drug name visible\\n \"))\n",
    "            update.message.reply_text(\"No Worries! Go with /manual_entry or /Features of Dhanvantri\")\n",
    "            return\n",
    "        update.message.reply_text(translator.translate(\"Ur results getting Ready Please Wait....\"))\n",
    "        best_price,uses,side_effects = drug_det_scrape(drug)\n",
    "        update.message.reply_text(translator.translate(\"Almost There ...\"))\n",
    "        # update.message.reply_text(\n",
    "        # f'''{translator.translate('USES')}: \\n\\n {translator.translate(uses)} \\n\\n {translator.translate('BEST PRICE')} :\\n\\n {translator.translate(best_price)} \\n\\n {translator.translate('SIDE EFFECTS')}:\\n\\n {translator.translate(side_effects)}\n",
    "        # '''\n",
    "        update.message.reply_text(Translator.translate(\n",
    "        f''' USES: \\n {uses} \\n\\n BEST PRICE:\\n {best_price} \\n\\n SIDE EFFECTS:\\n {side_effects}''')\n",
    "        )\n",
    "        # cannot able to return photo_path\n",
    "        # if we pass photo directly that will be great\n",
    "\n",
    "    else:\n",
    "        # If the message does not contain a photo\n",
    "        message.reply_text(translator.translate('Please send an image.'))"
   ]
  },
  {
   "attachments": {},
   "cell_type": "markdown",
   "metadata": {},
   "source": [
    "#### Start"
   ]
  },
  {
   "cell_type": "code",
   "execution_count": 5,
   "metadata": {},
   "outputs": [],
   "source": [
    "def start(update, context):\n",
    "    update.message.reply_text(\"Hi! I'm Dhanvantri The Drug Detector Bot.\\nI'm a bot that lets you find drugs in images.\\n\\nTo /Features, click the Features button to start.\") "
   ]
  },
  {
   "attachments": {},
   "cell_type": "markdown",
   "metadata": {},
   "source": [
    "#### Help"
   ]
  },
  {
   "cell_type": "code",
   "execution_count": 6,
   "metadata": {},
   "outputs": [],
   "source": [
    "def help(update,context):\n",
    "    update.message.reply_text(\n",
    "        '''\n",
    "        /start -> Greating From Dhanvanthri\\n/help  -> Need any Help\\n/Features -> Know What Dhanvanthri can do\\n/Change_Language -> Change the language of the Bot\\n/identify_drug -> medicine identification\\n/remainder -> medicine intake remainder\\n/manual_entry -> Manual entry of Drug Name\n",
    "        '''\n",
    "    ) "
   ]
  },
  {
   "attachments": {},
   "cell_type": "markdown",
   "metadata": {},
   "source": [
    "#### Features"
   ]
  },
  {
   "cell_type": "code",
   "execution_count": 7,
   "metadata": {},
   "outputs": [],
   "source": [
    "def Features(update,context):\n",
    "    update.message.reply_text(\n",
    "        '''\n",
    "        /Change_Language(default:English)\\n/identify_drug\\n/remainder\\n/manual_entry\n",
    "        '''\n",
    "        )"
   ]
  },
  {
   "attachments": {},
   "cell_type": "markdown",
   "metadata": {},
   "source": [
    "#### Transalate"
   ]
  },
  {
   "cell_type": "code",
   "execution_count": 8,
   "metadata": {},
   "outputs": [],
   "source": [
    "def transalate(update,context):\n",
    "    global lang\n",
    "    lang = update.message.text\n",
    "    translator = Translator(to_lang=lang)\n",
    "    update.message.reply_text(translator.translate('Please Upload medicine strip (Backside where Drug name present)'))\n",
    "    dispatcher.add_handler(MessageHandler(Filters.photo, handle_image))"
   ]
  },
  {
   "cell_type": "code",
   "execution_count": 9,
   "metadata": {},
   "outputs": [],
   "source": [
    "def select_lang(update,context):\n",
    "    update.message.reply_text('''\n",
    "as: Assamese\n",
    "bn: Bengali\n",
    "gu: Gujarati\n",
    "hi: Hindi\n",
    "kn: Kannada\n",
    "ml: Malayalam\n",
    "mr: Marathi\n",
    "ne: Nepali\n",
    "or: Oriya\n",
    "pa: Punjabi\n",
    "ta: Tamil\n",
    "te: Telugu\n",
    "ur: Urdu\n",
    "en: English\n",
    "------------------\n",
    "ar: Arabic\n",
    "de: German\n",
    "es: Spanish\n",
    "fr: French\n",
    "it: Italian\n",
    "ja: Japanese\n",
    "ko: Korean\n",
    "pt: Portuguese\n",
    "ru: Russian\n",
    "zh-CN: Chinese (Simplified)  ''')\n",
    "    update.message.reply_text(\"Enter Requried Language Code 🫡\")\n",
    "dispatcher.add_handler(MessageHandler(Filters.text & ~Filters.command, transalate))"
   ]
  },
  {
   "attachments": {},
   "cell_type": "markdown",
   "metadata": {},
   "source": [
    "#### Identify Drug"
   ]
  },
  {
   "cell_type": "code",
   "execution_count": 10,
   "metadata": {},
   "outputs": [],
   "source": [
    "def identify_drug(update,context):\n",
    "    update.message.reply_text('Please Upload medicine strip (Backside where Drug name present)')\n",
    "    dispatcher.add_handler(MessageHandler(Filters.photo, handle_image))"
   ]
  },
  {
   "attachments": {},
   "cell_type": "markdown",
   "metadata": {},
   "source": [
    "#### Manual Entry"
   ]
  },
  {
   "cell_type": "code",
   "execution_count": 11,
   "metadata": {},
   "outputs": [],
   "source": [
    "def manual_search(update,context):\n",
    "    message = update.message\n",
    "    if message.text:\n",
    "        drug = message.text\n",
    "        update.message.reply_text(\"Ur results getting Ready Please Wait....\")\n",
    "        best_price,uses,side_effects = drug_det_scrape(drug)\n",
    "        update.message.reply_text(Translator.translate(\"Almost There ...\"))\n",
    "        update.message.reply_text(Translator.translate(\n",
    "        f''' USES: \\n {uses} \\n\\n BEST PRICE:\\n {best_price} \\n\\n SIDE EFFECTS:\\n {side_effects}''')\n",
    "        )"
   ]
  },
  {
   "cell_type": "code",
   "execution_count": 12,
   "metadata": {},
   "outputs": [],
   "source": [
    "def manual_entry(update,context):\n",
    "    update.message.reply_text('Enter Drug Name')\n",
    "    dispatcher.add_handler(MessageHandler(Filters.text & (~Filters.command),manual_search))"
   ]
  },
  {
   "attachments": {},
   "cell_type": "markdown",
   "metadata": {},
   "source": [
    "#### Remainder"
   ]
  },
  {
   "cell_type": "code",
   "execution_count": 13,
   "metadata": {},
   "outputs": [],
   "source": [
    "def alarm(update,context):\n",
    "    update.message.reply_text(\"Your Remainder Set ✌️\")\n",
    "    message = update.message\n",
    "    # Access the text of the last message\n",
    "    last_message = message.text\n",
    "    time_pattern = r\"^(0[1-9]|1[0-2]):[0-5][0-9] (AM|PM)$\"\n",
    "    if re.match(time_pattern,last_message):\n",
    "        while True:\n",
    "            current_time = datetime.now().time().strftime(\"%I:%M %p\")\n",
    "            if current_time == last_message: \n",
    "                update.message.reply_text(\"Time to take medicine 💊 \")\n",
    "                return\n",
    "    else:\n",
    "        update.message.reply_text(\"Enter Time in Correct order 👀\") \n",
    "        update.message.reply_text('No Worries 😎 \\n Try again -> /remainder')        "
   ]
  },
  {
   "cell_type": "code",
   "execution_count": 14,
   "metadata": {},
   "outputs": [],
   "source": [
    "def remainder(update,context):\n",
    "        update.message.reply_text(\"Enter Alerm Time (HH:MM AM)\")\n",
    "        dispatcher.add_handler(MessageHandler(Filters.text & ~Filters.command, alarm))"
   ]
  },
  {
   "attachments": {},
   "cell_type": "markdown",
   "metadata": {},
   "source": [
    "#### Error Handler"
   ]
  },
  {
   "cell_type": "code",
   "execution_count": 15,
   "metadata": {},
   "outputs": [],
   "source": [
    "def error_handler(update, context):\n",
    "    # Log the exception\n",
    "    context.error(f\"An error occurred: {context.error}\")"
   ]
  },
  {
   "attachments": {},
   "cell_type": "markdown",
   "metadata": {},
   "source": [
    "#### Running the Bot"
   ]
  },
  {
   "cell_type": "code",
   "execution_count": 16,
   "metadata": {},
   "outputs": [
    {
     "name": "stderr",
     "output_type": "stream",
     "text": [
      "[2023-08-23 22:31:18,012] [   ERROR] dispatcher.py:573 - An uncaught error was raised while handling the error.\n",
      "Traceback (most recent call last):\n",
      "  File \"c:\\Users\\DRUVA\\AppData\\Local\\Programs\\Python\\Python39\\lib\\site-packages\\telegram\\ext\\dispatcher.py\", line 555, in process_update\n",
      "    handler.handle_update(update, self, check, context)\n",
      "  File \"c:\\Users\\DRUVA\\AppData\\Local\\Programs\\Python\\Python39\\lib\\site-packages\\telegram\\ext\\handler.py\", line 198, in handle_update\n",
      "    return self.callback(update, context)\n",
      "  File \"C:\\Users\\DRUVA\\AppData\\Local\\Temp\\ipykernel_8544\\199061598.py\", line 31, in handle_image\n",
      "    best_price,uses,side_effects = drug_det_scrape(drug)\n",
      "  File \"C:\\Users\\DRUVA\\AppData\\Local\\Temp\\ipykernel_8544\\2435440006.py\", line 6, in drug_det_scrape\n",
      "    driver = webdriver.Chrome(ChromeDriverManager().install())\n",
      "  File \"c:\\Users\\DRUVA\\AppData\\Local\\Programs\\Python\\Python39\\lib\\site-packages\\webdriver_manager\\chrome.py\", line 39, in install\n",
      "    driver_path = self._get_driver_path(self.driver)\n",
      "  File \"c:\\Users\\DRUVA\\AppData\\Local\\Programs\\Python\\Python39\\lib\\site-packages\\webdriver_manager\\core\\manager.py\", line 30, in _get_driver_path\n",
      "    file = self._download_manager.download_file(driver.get_driver_download_url())\n",
      "  File \"c:\\Users\\DRUVA\\AppData\\Local\\Programs\\Python\\Python39\\lib\\site-packages\\webdriver_manager\\drivers\\chrome.py\", line 40, in get_driver_download_url\n",
      "    driver_version_to_download = self.get_driver_version_to_download()\n",
      "  File \"c:\\Users\\DRUVA\\AppData\\Local\\Programs\\Python\\Python39\\lib\\site-packages\\webdriver_manager\\core\\driver.py\", line 51, in get_driver_version_to_download\n",
      "    self._driver_to_download_version = self._version if self._version not in (None, \"latest\") else self.get_latest_release_version()\n",
      "  File \"c:\\Users\\DRUVA\\AppData\\Local\\Programs\\Python\\Python39\\lib\\site-packages\\webdriver_manager\\drivers\\chrome.py\", line 62, in get_latest_release_version\n",
      "    resp = self._http_client.get(url=latest_release_url)\n",
      "  File \"c:\\Users\\DRUVA\\AppData\\Local\\Programs\\Python\\Python39\\lib\\site-packages\\webdriver_manager\\core\\http.py\", line 37, in get\n",
      "    self.validate_response(resp)\n",
      "  File \"c:\\Users\\DRUVA\\AppData\\Local\\Programs\\Python\\Python39\\lib\\site-packages\\webdriver_manager\\core\\http.py\", line 16, in validate_response\n",
      "    raise ValueError(f\"There is no such driver by url {resp.url}\")\n",
      "ValueError: There is no such driver by url https://chromedriver.storage.googleapis.com/LATEST_RELEASE_116.0.5845\n",
      "\n",
      "During handling of the above exception, another exception occurred:\n",
      "\n",
      "Traceback (most recent call last):\n",
      "  File \"c:\\Users\\DRUVA\\AppData\\Local\\Programs\\Python\\Python39\\lib\\site-packages\\telegram\\ext\\dispatcher.py\", line 567, in process_update\n",
      "    self.dispatch_error(update, exc)\n",
      "  File \"c:\\Users\\DRUVA\\AppData\\Local\\Programs\\Python\\Python39\\lib\\site-packages\\telegram\\ext\\dispatcher.py\", line 810, in dispatch_error\n",
      "    callback(update, context)\n",
      "  File \"C:\\Users\\DRUVA\\AppData\\Local\\Temp\\ipykernel_8544\\1527916622.py\", line 3, in error_handler\n",
      "    context.error(f\"An error occurred: {context.error}\")\n",
      "TypeError: 'ValueError' object is not callable\n"
     ]
    }
   ],
   "source": [
    "dispatcher.add_handler(CommandHandler('Start',start))\n",
    "dispatcher.add_handler(CommandHandler('Help',help))\n",
    "dispatcher.add_handler(CommandHandler('Change_Language',select_lang))\n",
    "dispatcher.add_handler(CommandHandler('Features',Features))\n",
    "dispatcher.add_handler(CommandHandler('Identify_drug',identify_drug))\n",
    "dispatcher.add_handler(CommandHandler('Remainder',remainder))\n",
    "dispatcher.add_handler(CommandHandler('Manual_Entry',manual_entry))\n",
    "dispatcher.add_error_handler(error_handler)\n",
    "updater.start_polling()\n",
    "updater.idle()"
   ]
  }
 ],
 "metadata": {
  "kernelspec": {
   "display_name": "Python 3",
   "language": "python",
   "name": "python3"
  },
  "language_info": {
   "codemirror_mode": {
    "name": "ipython",
    "version": 3
   },
   "file_extension": ".py",
   "mimetype": "text/x-python",
   "name": "python",
   "nbconvert_exporter": "python",
   "pygments_lexer": "ipython3",
   "version": "3.9.10"
  },
  "orig_nbformat": 4
 },
 "nbformat": 4,
 "nbformat_minor": 2
}
